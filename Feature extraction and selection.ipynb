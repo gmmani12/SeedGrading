{
 "cells": [
  {
   "cell_type": "code",
   "execution_count": 1,
   "metadata": {},
   "outputs": [
    {
     "name": "stdout",
     "output_type": "stream",
     "text": [
      "Num GPUs Available:  1\n"
     ]
    }
   ],
   "source": [
    "import tensorflow as tf\n",
    "print(\"Num GPUs Available: \", len(tf.config.list_physical_devices('GPU')))"
   ]
  },
  {
   "cell_type": "code",
   "execution_count": 1,
   "metadata": {
    "id": "nReo9QEcE89e"
   },
   "outputs": [],
   "source": [
    "import tensorflow as tf\n",
    "from tensorflow.keras import models, layers\n",
    "import matplotlib.pyplot as plt\n",
    "from keras.preprocessing.image import ImageDataGenerator\n",
    "from tensorflow.keras.applications.vgg16 import VGG16\n",
    "from tensorflow.keras.models import Model\n",
    "from tensorflow.keras.applications.vgg16 import preprocess_input\n",
    "from sklearn.svm import SVC\n",
    "import numpy as np\n",
    "from sklearn.model_selection import train_test_split\n",
    "from keras.models import Sequential\n",
    "from tensorflow.keras.layers import BatchNormalization\n",
    "from keras.layers import Conv2D\n",
    "from keras.layers import Input, Conv2D, MaxPooling2D, Flatten, Dense\n",
    "from keras.models import Sequential, Model"
   ]
  },
  {
   "cell_type": "code",
   "execution_count": 31,
   "metadata": {
    "id": "pXKNNFPGFwlR"
   },
   "outputs": [],
   "source": [
    "BATCH_SIZE = 32\n",
    "IMAGE_SIZE = 224\n",
    "CHANNELS=3\n",
    "EPOCHS=10"
   ]
  },
  {
   "cell_type": "code",
   "execution_count": 3,
   "metadata": {
    "colab": {
     "base_uri": "https://localhost:8080/"
    },
    "id": "0gRgQ6saF1RD",
    "outputId": "9795ca02-4fa9-4ece-bb4f-c832da07db26"
   },
   "outputs": [
    {
     "name": "stdout",
     "output_type": "stream",
     "text": [
      "Found 1507 images belonging to 3 classes.\n",
      "Found 645 images belonging to 3 classes.\n"
     ]
    }
   ],
   "source": [
    "data_generator = ImageDataGenerator(\n",
    "    preprocessing_function=preprocess_input,\n",
    "    validation_split=0.3) \n",
    "\n",
    "train_generator = data_generator.flow_from_directory(\n",
    "   r\"C:\\Users\\ADMIN\\Downloads\\potato\", \n",
    "    target_size =(IMAGE_SIZE, IMAGE_SIZE), \n",
    "    batch_size = BATCH_SIZE,\n",
    "    shuffle = True,\n",
    "    class_mode = 'categorical',\n",
    "    subset='training',\n",
    "    seed = 42,)\n",
    "\n",
    "validation_generator = data_generator.flow_from_directory( \n",
    "    r\"C:\\Users\\ADMIN\\Downloads\\potato\", \n",
    "    target_size =(IMAGE_SIZE, IMAGE_SIZE), \n",
    "    batch_size =BATCH_SIZE,\n",
    "    shuffle = True,\n",
    "    class_mode = 'categorical',\n",
    "    subset='validation',\n",
    "    seed = 42)"
   ]
  },
  {
   "cell_type": "code",
   "execution_count": 23,
   "metadata": {},
   "outputs": [],
   "source": [
    "resize_and_rescale = tf.keras.Sequential([\n",
    "  layers.experimental.preprocessing.Resizing(IMAGE_SIZE, IMAGE_SIZE),\n",
    "  layers.experimental.preprocessing.Rescaling(1./255),\n",
    "])"
   ]
  },
  {
   "cell_type": "code",
   "execution_count": 24,
   "metadata": {},
   "outputs": [],
   "source": [
    "input_shape = (BATCH_SIZE, IMAGE_SIZE, IMAGE_SIZE, CHANNELS)\n",
    "n_classes = 3\n",
    "\n",
    "model = models.Sequential([\n",
    "    resize_and_rescale,\n",
    "    layers.Conv2D(32, kernel_size = (3,3), activation='relu', input_shape=input_shape),\n",
    "    layers.MaxPooling2D((2, 2)),\n",
    "    layers.Conv2D(64,  kernel_size = (3,3), activation='relu'),\n",
    "    layers.MaxPooling2D((2, 2)),\n",
    "    layers.Conv2D(64,  kernel_size = (3,3), activation='relu'),\n",
    "    layers.MaxPooling2D((2, 2)),\n",
    "    layers.Conv2D(64, (3, 3), activation='relu'),\n",
    "    layers.MaxPooling2D((2, 2)),\n",
    "    layers.Conv2D(64, (3, 3), activation='relu'),\n",
    "    layers.MaxPooling2D((2, 2)),\n",
    "    layers.Conv2D(64, (3, 3), activation='relu'),\n",
    "    layers.MaxPooling2D((2, 2)),\n",
    "    layers.Flatten(),\n",
    "    layers.Dense(64, activation='relu'),\n",
    "    layers.Dense(n_classes, activation='softmax'),\n",
    "])\n",
    "\n",
    "model.build(input_shape=input_shape)"
   ]
  },
  {
   "cell_type": "code",
   "execution_count": 25,
   "metadata": {},
   "outputs": [],
   "source": [
    "model.compile(optimizer='adam',\n",
    "              loss='categorical_crossentropy',\n",
    "              metrics=['accuracy'])\n"
   ]
  },
  {
   "cell_type": "code",
   "execution_count": 27,
   "metadata": {},
   "outputs": [
    {
     "name": "stdout",
     "output_type": "stream",
     "text": [
      "Epoch 1/10\n",
      "48/48 [==============================] - 6s 118ms/step - loss: 0.4878 - accuracy: 0.8281 - val_loss: 0.5278 - val_accuracy: 0.7969\n",
      "Epoch 2/10\n",
      "48/48 [==============================] - 5s 109ms/step - loss: 0.4376 - accuracy: 0.8388 - val_loss: 0.4384 - val_accuracy: 0.8512\n",
      "Epoch 3/10\n",
      "48/48 [==============================] - 5s 110ms/step - loss: 0.3940 - accuracy: 0.8474 - val_loss: 0.4077 - val_accuracy: 0.8496\n",
      "Epoch 4/10\n",
      "48/48 [==============================] - 5s 111ms/step - loss: 0.3344 - accuracy: 0.8719 - val_loss: 0.3535 - val_accuracy: 0.8574\n",
      "Epoch 5/10\n",
      "48/48 [==============================] - 5s 100ms/step - loss: 0.2845 - accuracy: 0.8971 - val_loss: 0.2916 - val_accuracy: 0.8853\n",
      "Epoch 6/10\n",
      "48/48 [==============================] - 5s 103ms/step - loss: 0.3313 - accuracy: 0.8759 - val_loss: 0.3103 - val_accuracy: 0.8868\n",
      "Epoch 7/10\n",
      "48/48 [==============================] - 5s 103ms/step - loss: 0.2422 - accuracy: 0.9098 - val_loss: 0.2918 - val_accuracy: 0.8791\n",
      "Epoch 8/10\n",
      "48/48 [==============================] - 5s 107ms/step - loss: 0.1990 - accuracy: 0.9257 - val_loss: 0.3621 - val_accuracy: 0.8760\n",
      "Epoch 9/10\n",
      "48/48 [==============================] - 5s 112ms/step - loss: 0.2175 - accuracy: 0.9164 - val_loss: 0.2572 - val_accuracy: 0.8930\n",
      "Epoch 10/10\n",
      "48/48 [==============================] - 5s 106ms/step - loss: 0.1585 - accuracy: 0.9376 - val_loss: 0.2578 - val_accuracy: 0.9023\n"
     ]
    }
   ],
   "source": [
    "history=model.fit(train_generator, epochs=10, validation_data=validation_generator)"
   ]
  },
  {
   "cell_type": "code",
   "execution_count": 29,
   "metadata": {},
   "outputs": [],
   "source": [
    "acc = history.history['accuracy']\n",
    "val_acc = history.history['val_accuracy']\n",
    "\n",
    "loss = history.history['loss']\n",
    "val_loss = history.history['val_loss']"
   ]
  },
  {
   "cell_type": "code",
   "execution_count": 32,
   "metadata": {},
   "outputs": [
    {
     "data": {
      "image/png": "[encoded data removed]",
      "text/plain": [
       "<Figure size 800x800 with 2 Axes>"
      ]
     },
     "metadata": {},
     "output_type": "display_data"
    }
   ],
   "source": [
    "plt.figure(figsize=(8, 8))\n",
    "plt.subplot(1, 2, 1)\n",
    "plt.plot(range(EPOCHS), acc, label='Training Accuracy')\n",
    "plt.plot(range(EPOCHS), val_acc, label='Validation Accuracy')\n",
    "plt.legend(loc='lower right')\n",
    "plt.title('Training and Validation Accuracy')\n",
    "\n",
    "plt.subplot(1, 2, 2)\n",
    "plt.plot(range(EPOCHS), loss, label='Training Loss')\n",
    "plt.plot(range(EPOCHS), val_loss, label='Validation Loss')\n",
    "plt.legend(loc='upper right')\n",
    "plt.title('Training and Validation Loss')\n",
    "plt.show()"
   ]
  },
  {
   "cell_type": "code",
   "execution_count": 33,
   "metadata": {},
   "outputs": [
    {
     "name": "stdout",
     "output_type": "stream",
     "text": [
      "Model: \"model\"\n",
      "_________________________________________________________________\n",
      " Layer (type)                Output Shape              Param #   \n",
      "=================================================================\n",
      " sequential_input (InputLaye  [(None, None, None, None  0        \n",
      " r)                          )]                                  \n",
      "                                                                 \n",
      " sequential (Sequential)     (None, 224, 224, None)    0         \n",
      "                                                                 \n",
      " conv2d (Conv2D)             (None, 222, 222, 32)      896       \n",
      "                                                                 \n",
      " max_pooling2d (MaxPooling2D  (None, 111, 111, 32)     0         \n",
      " )                                                               \n",
      "                                                                 \n",
      " conv2d_1 (Conv2D)           (None, 109, 109, 64)      18496     \n",
      "                                                                 \n",
      " max_pooling2d_1 (MaxPooling  (None, 54, 54, 64)       0         \n",
      " 2D)                                                             \n",
      "                                                                 \n",
      " conv2d_2 (Conv2D)           (None, 52, 52, 64)        36928     \n",
      "                                                                 \n",
      " max_pooling2d_2 (MaxPooling  (None, 26, 26, 64)       0         \n",
      " 2D)                                                             \n",
      "                                                                 \n",
      " conv2d_3 (Conv2D)           (None, 24, 24, 64)        36928     \n",
      "                                                                 \n",
      " max_pooling2d_3 (MaxPooling  (None, 12, 12, 64)       0         \n",
      " 2D)                                                             \n",
      "                                                                 \n",
      " conv2d_4 (Conv2D)           (None, 10, 10, 64)        36928     \n",
      "                                                                 \n",
      " max_pooling2d_4 (MaxPooling  (None, 5, 5, 64)         0         \n",
      " 2D)                                                             \n",
      "                                                                 \n",
      " conv2d_5 (Conv2D)           (None, 3, 3, 64)          36928     \n",
      "                                                                 \n",
      " max_pooling2d_5 (MaxPooling  (None, 1, 1, 64)         0         \n",
      " 2D)                                                             \n",
      "                                                                 \n",
      " flatten (Flatten)           (None, 64)                0         \n",
      "                                                                 \n",
      " dense (Dense)               (None, 64)                4160      \n",
      "                                                                 \n",
      "=================================================================\n",
      "Total params: 171,264\n",
      "Trainable params: 171,264\n",
      "Non-trainable params: 0\n",
      "_________________________________________________________________\n"
     ]
    }
   ],
   "source": [
    "new_model = Model(inputs=model.input, outputs=model.layers[-2].output)\n",
    "new_model.summary()"
   ]
  },
  {
   "cell_type": "code",
   "execution_count": 36,
   "metadata": {
    "colab": {
     "base_uri": "https://localhost:8080/"
    },
    "id": "WfpQNbo2Grjq",
    "outputId": "7777d7bc-d99a-4804-aa9d-efdcd4b36af9"
   },
   "outputs": [
    {
     "name": "stdout",
     "output_type": "stream",
     "text": [
      "48/48 [==============================] - 4s 81ms/step\n"
     ]
    }
   ],
   "source": [
    "train_features = model.predict(train_generator)"
   ]
  },
  {
   "cell_type": "code",
   "execution_count": 37,
   "metadata": {
    "colab": {
     "base_uri": "https://localhost:8080/"
    },
    "id": "0CmyNYSNPH1W",
    "outputId": "0800989e-db3f-47d6-966c-5293a915b2e2"
   },
   "outputs": [
    {
     "name": "stdout",
     "output_type": "stream",
     "text": [
      "21/21 [==============================] - 2s 70ms/step\n"
     ]
    }
   ],
   "source": [
    "validation_features = model.predict(validation_generator)"
   ]
  },
  {
   "cell_type": "code",
   "execution_count": 7,
   "metadata": {
    "colab": {
     "base_uri": "https://localhost:8080/"
    },
    "id": "8glgN6wqmN4H",
    "outputId": "e2bd10ea-3e8a-48db-af5d-05d1a067fb26"
   },
   "outputs": [
    {
     "data": {
      "text/plain": [
       "(1507, 7, 7, 512)"
      ]
     },
     "execution_count": 7,
     "metadata": {},
     "output_type": "execute_result"
    }
   ],
   "source": [
    "train_features.shape"
   ]
  },
  {
   "cell_type": "code",
   "execution_count": 8,
   "metadata": {
    "colab": {
     "base_uri": "https://localhost:8080/"
    },
    "id": "h-jNGP1Dx0mF",
    "outputId": "985b6ecd-1569-4ac0-ba9c-83e3b9b2093b"
   },
   "outputs": [
    {
     "data": {
      "text/plain": [
       "(645, 7, 7, 512)"
      ]
     },
     "execution_count": 8,
     "metadata": {},
     "output_type": "execute_result"
    }
   ],
   "source": [
    "validation_features.shape"
   ]
  },
  {
   "cell_type": "code",
   "execution_count": 46,
   "metadata": {
    "colab": {
     "base_uri": "https://localhost:8080/"
    },
    "id": "825z8hs-uPcv",
    "outputId": "cf9cc6e4-efe7-4222-b2e9-1240c3ee30ab"
   },
   "outputs": [
    {
     "data": {
      "text/plain": [
       "1507"
      ]
     },
     "execution_count": 46,
     "metadata": {},
     "output_type": "execute_result"
    }
   ],
   "source": [
    "len(train_generator.labels)"
   ]
  },
  {
   "cell_type": "code",
   "execution_count": 65,
   "metadata": {
    "colab": {
     "base_uri": "https://localhost:8080/"
    },
    "id": "ePZzvFIHyGMT",
    "outputId": "129cda59-f20d-4890-ef69-f4b13700bd92"
   },
   "outputs": [
    {
     "data": {
      "text/plain": [
       "645"
      ]
     },
     "execution_count": 65,
     "metadata": {},
     "output_type": "execute_result"
    }
   ],
   "source": [
    "len(validation_generator.labels)"
   ]
  },
  {
   "cell_type": "code",
   "execution_count": 38,
   "metadata": {
    "id": "TxLA9JdqKMy5"
   },
   "outputs": [],
   "source": [
    "x_train, x_test, y_train, y_test = train_features,validation_features,train_generator.labels,validation_generator.labels"
   ]
  },
  {
   "cell_type": "code",
   "execution_count": 17,
   "metadata": {
    "colab": {
     "base_uri": "https://localhost:8080/"
    },
    "id": "MSaTq753581d",
    "outputId": "0dc2fcdf-d69c-4091-c111-7a6335da7916"
   },
   "outputs": [
    {
     "data": {
      "text/plain": [
       "1507"
      ]
     },
     "execution_count": 17,
     "metadata": {},
     "output_type": "execute_result"
    }
   ],
   "source": [
    "len(y_train)"
   ]
  },
  {
   "cell_type": "code",
   "execution_count": 31,
   "metadata": {
    "colab": {
     "base_uri": "https://localhost:8080/"
    },
    "id": "VfwhZR7A6DBE",
    "outputId": "dd0a698f-e538-4613-fd53-4559675a4684"
   },
   "outputs": [
    {
     "data": {
      "text/plain": [
       "645"
      ]
     },
     "execution_count": 31,
     "metadata": {},
     "output_type": "execute_result"
    }
   ],
   "source": [
    "len(y_test)"
   ]
  },
  {
   "cell_type": "code",
   "execution_count": 14,
   "metadata": {
    "colab": {
     "base_uri": "https://localhost:8080/"
    },
    "id": "9ITuhyD5262z",
    "outputId": "0019fe38-1bc5-4a37-a14e-025cb11554d5"
   },
   "outputs": [
    {
     "data": {
      "text/plain": [
       "(7, 7, 512)"
      ]
     },
     "execution_count": 14,
     "metadata": {},
     "output_type": "execute_result"
    }
   ],
   "source": [
    "x_train.shape[1:]"
   ]
  },
  {
   "cell_type": "code",
   "execution_count": 39,
   "metadata": {
    "id": "2wDJKG-hPgH-"
   },
   "outputs": [],
   "source": [
    "n_samples = x_train.shape[0]\n",
    "n_features = np.prod(x_train.shape[1:])\n",
    "x_train = np.reshape(x_train, (n_samples, n_features))"
   ]
  },
  {
   "cell_type": "code",
   "execution_count": 11,
   "metadata": {
    "colab": {
     "base_uri": "https://localhost:8080/"
    },
    "id": "tMx8A7ce3Aix",
    "outputId": "6057bb5d-d059-4e23-a9c4-26e545224fe7"
   },
   "outputs": [
    {
     "data": {
      "text/plain": [
       "(1507, 25088)"
      ]
     },
     "execution_count": 11,
     "metadata": {},
     "output_type": "execute_result"
    }
   ],
   "source": [
    "x_train.shape"
   ]
  },
  {
   "cell_type": "code",
   "execution_count": 40,
   "metadata": {
    "id": "eDvh96-ayl6j"
   },
   "outputs": [],
   "source": [
    "n_samples1 = x_test.shape[0]\n",
    "n_features1 = np.prod(x_test.shape[1:])\n",
    "x_test = np.reshape(x_test, (n_samples1, n_features1))"
   ]
  },
  {
   "cell_type": "code",
   "execution_count": 18,
   "metadata": {
    "colab": {
     "base_uri": "https://localhost:8080/"
    },
    "id": "fH1zmYz01ozr",
    "outputId": "7a238748-4e44-4a8a-fa31-e3708cd4e115"
   },
   "outputs": [
    {
     "data": {
      "text/plain": [
       "51200"
      ]
     },
     "execution_count": 18,
     "metadata": {},
     "output_type": "execute_result"
    }
   ],
   "source": [
    "n_features1"
   ]
  },
  {
   "cell_type": "code",
   "execution_count": 41,
   "metadata": {},
   "outputs": [],
   "source": [
    "import pandas as pd"
   ]
  },
  {
   "cell_type": "code",
   "execution_count": 42,
   "metadata": {},
   "outputs": [],
   "source": [
    "x_traindf = pd.DataFrame(x_train)"
   ]
  },
  {
   "cell_type": "code",
   "execution_count": 43,
   "metadata": {},
   "outputs": [],
   "source": [
    "x_testdf = pd.DataFrame(x_test)"
   ]
  },
  {
   "cell_type": "code",
   "execution_count": 13,
   "metadata": {},
   "outputs": [],
   "source": [
    "from sklearn.svm import SVC\n",
    "from sklearn.neighbors import KNeighborsClassifier\n",
    "import numpy as np\n",
    "import pandas as pd\n",
    "import random\n",
    "import math \n",
    "from sklearn.ensemble import RandomForestClassifier\n",
    "from sklearn.metrics import accuracy_score\n",
    "from sklearn.cluster import KMeans"
   ]
  },
  {
   "cell_type": "code",
   "execution_count": 44,
   "metadata": {},
   "outputs": [
    {
     "name": "stdout",
     "output_type": "stream",
     "text": [
      "0.4883720930232558\n"
     ]
    }
   ],
   "source": [
    "rf = RandomForestClassifier()\n",
    "rf.fit(x_train, y_train)\n",
    "y_val_pred = rf.predict(x_test)\n",
    "print( accuracy_score(y_test, y_val_pred))"
   ]
  },
  {
   "cell_type": "code",
   "execution_count": 45,
   "metadata": {},
   "outputs": [],
   "source": [
    "\n",
    "def fitness(features_mask):\n",
    "    # select the features based on the binary mask\n",
    "    selected_features = x_train[:, features_mask.astype(bool)]\n",
    "    # train and evaluate a KNN classifier using the selected features\n",
    "    #print(len(selected_features))\n",
    "    #knn = KNeighborsClassifier(n_neighbors=204)\n",
    "    #kmeans = KMeans(n_clusters=i)\n",
    "    #kmeans.fit(data)\n",
    "    rf = RandomForestClassifier()\n",
    "    rf.fit(selected_features, y_train)\n",
    "    #svm = SVC(kernel=\"linear\", random_state=42)\n",
    "    #svm.fit(selected_features, y_train)\n",
    "    #knn.fit(selected_features, y_train)\n",
    "    #print(\"hi\")\n",
    "    #y_val_pred = knn.predict(x_test[:, features_mask.astype(bool)])\n",
    "    #y_val_pred = svm.predict(x_test[:, features_mask.astype(bool)])\n",
    "    y_val_pred = rf.predict(x_test[:, features_mask.astype(bool)])\n",
    "    #print(len(y_val_pred))\n",
    "    #print(accuracy_score(y_test, y_val_pred))\n",
    "    return accuracy_score(y_test, y_val_pred)\n",
    "\n",
    "    \n",
    "######### Moth Flame Algo ############\n",
    "def MFO(x_train, y_train, x_test, y_test, Max_iteration,n):\n",
    "    \n",
    "    length=len(x_train.iloc[0])\n",
    "    size1=int(length)\n",
    "    \n",
    "    moth_population=np.zeros(shape=(n,size1))\n",
    "    fitness_of_moths = np.zeros(n)\n",
    "\n",
    "    ########## Initialisation of solutions randomly ##############\n",
    "    for i in range(0,n):\n",
    "            # for j in range(0,size):\n",
    "            #     if j==0:\n",
    "            #         r=random.randint(0,length-1)\n",
    "            #         while( (length-1-r)<(size-j-1) ):\n",
    "            #             r=random.randint(0,length-1)\n",
    "            #         moth_population[i][j]=r\n",
    "            #     else:\n",
    "            #         r=random.randint(0,length-1)\n",
    "            #         while( ((length-1-r)<(size-j-1) ) or moth_population[i][j-1]>=r):\n",
    "            #             r=random.randint(0,length-1)\n",
    "                    # moth_population[i][j]=r\n",
    "                    \n",
    "        moth_population[i]=np.random.randint(2, size=size1)\n",
    "    previous_population=0\n",
    "    previous_fitness=0\n",
    "    \n",
    "    # Max_iteration=m  \n",
    "    ############ Begin of Algo ##############\n",
    "    for Iteration in range(1,Max_iteration+1):\n",
    "        \n",
    "        \n",
    "        print(str(Iteration), end=\" \")\n",
    "        Flame_no = round(n-Iteration*((n-1)/Max_iteration));\n",
    "        \n",
    "        for i in range(0,n):\n",
    "            fitness_of_moths[i] = fitness(moth_population[i]) # calculation of fitness\n",
    "        \n",
    "        \n",
    "        if Iteration==1:\n",
    "             best_flame_fitness = np.sort(fitness_of_moths)[::-1] # getting best flames\n",
    "             I = np.argsort(fitness_of_moths)[::-1]\n",
    "             best_flames = moth_population[I]\n",
    "            \n",
    "        else:\n",
    "            double_population = np.concatenate((previous_population,best_flames))\n",
    "            double_fitness=np.concatenate((previous_fitness, best_flame_fitness))\n",
    "            \n",
    "            double_fitness_sorted = np.sort(double_fitness)[::-1]\n",
    "            I=np.argsort(double_fitness)[::-1]\n",
    "            double_sorted_population = double_population[I]\n",
    "            \n",
    "            best_flame_fitness = double_fitness_sorted[0:n] # getting best flames\n",
    "            best_flames = double_sorted_population[0:n]\n",
    "            \n",
    "        Best_flame_score=best_flame_fitness[0] # the best flame\n",
    "        print(str(Best_flame_score), end=\" \")\n",
    "        Best_flame_pos=best_flames[0]\n",
    "      \n",
    "        previous_population=moth_population\n",
    "        previous_fitness=fitness_of_moths\n",
    "            \n",
    "        a=-1 + Iteration*((-1)/Max_iteration);   \n",
    "        \n",
    "        for i in range(0,n):\n",
    "            for j in range(0,size1):\n",
    "                \n",
    "                if i<=Flame_no:\n",
    "                    distance_to_flame = abs(best_flames[i][j] - moth_population[i][j])\n",
    "                    b = 1\n",
    "                    t = (a-1)*random.random() + 1\n",
    "                    moth_population[i][j] = round(distance_to_flame*math.exp(b*t)*math.cos(t*2*math.pi) + best_flames[i][j]) # updating moth population\n",
    "                    \n",
    "                    if moth_population[i][j]<0: # Bringinging back to search space\n",
    "                        moth_population[i][j]=0\n",
    "                    \n",
    "                    if moth_population[i][j]>length-1: # Bringinging back to search space\n",
    "                        moth_population[i][j]=length-1\n",
    "                    \n",
    "                else:\n",
    "                    distance_to_flame = abs(best_flames[i][j] - moth_population[i][j])\n",
    "                    b = 1\n",
    "                    t = (a-1)*random.random() + 1\n",
    "                    moth_population[i][j] = round(distance_to_flame*math.exp(b*t)*math.cos(t*2*math.pi) + best_flames[Flame_no][j]) # updating moth population\n",
    "                    \n",
    "                    if moth_population[i][j]<0: # Bringinging back to search space\n",
    "                        moth_population[i][j]=0\n",
    "                        \n",
    "                    if moth_population[i][j]>length-1: # Bringinging back to search space\n",
    "                        moth_population[i][j]=length-1\n",
    "    \n",
    "        #print(\"Iteration = \" + str(Iteration))\n",
    "        #print()\n",
    "        \n",
    "    return best_flames, Best_flame_score"
   ]
  },
  {
   "cell_type": "code",
   "execution_count": null,
   "metadata": {},
   "outputs": [],
   "source": [
    "best_flames, Best_flame_score=MFO(x_traindf, y_train, x_testdf, y_test, 1000,5)"
   ]
  },
  {
   "cell_type": "code",
   "execution_count": null,
   "metadata": {},
   "outputs": [],
   "source": [
    "Best_flame_score"
   ]
  },
  {
   "cell_type": "code",
   "execution_count": null,
   "metadata": {
    "colab": {
     "base_uri": "https://localhost:8080/"
    },
    "id": "caON2tveLnIz",
    "outputId": "e9e28987-9f5e-4fc0-8aab-f2fa956289db"
   },
   "outputs": [
    {
     "data": {
      "text/plain": [
       "array([1., 1., 1., ..., 1., 1., 1.])"
      ]
     },
     "execution_count": 141,
     "metadata": {},
     "output_type": "execute_result"
    }
   ],
   "source": [
    "solution=np.ones(n_features)\n",
    "solution"
   ]
  },
  {
   "cell_type": "code",
   "execution_count": null,
   "metadata": {
    "colab": {
     "base_uri": "https://localhost:8080/",
     "height": 380
    },
    "id": "yZV3iQwBMOJs",
    "outputId": "86368e80-b560-4910-883d-43839c29bb4e"
   },
   "outputs": [],
   "source": [
    "# define the number of solutions in the population and the maximum number of iterations\n",
    "n_pop = 1\n",
    "max_iter = 20\n",
    "population = initialize_population(n_pop, n_features)\n",
    "best_solution,best_fitness = moth_flame_optimization(population, max_iter)"
   ]
  },
  {
   "cell_type": "code",
   "execution_count": null,
   "metadata": {
    "colab": {
     "base_uri": "https://localhost:8080/"
    },
    "id": "yexHiU2rSGmh",
    "outputId": "364bd4ec-5047-47d6-f90a-c31ad6d0291d"
   },
   "outputs": [],
   "source": [
    "best_fitness"
   ]
  },
  {
   "cell_type": "code",
   "execution_count": null,
   "metadata": {
    "colab": {
     "base_uri": "https://localhost:8080/"
    },
    "id": "1xulWmz-SIVk",
    "outputId": "4da62668-58b5-4b7f-dcb1-04740de40c98"
   },
   "outputs": [
    {
     "data": {
      "text/plain": [
       "664"
      ]
     },
     "execution_count": 121,
     "metadata": {},
     "output_type": "execute_result"
    }
   ],
   "source": [
    "list(best_solution).count(1)"
   ]
  },
  {
   "cell_type": "code",
   "execution_count": null,
   "metadata": {
    "id": "7G_BF-5p2yx9"
   },
   "outputs": [],
   "source": [
    "# extract the indices of the selected features in the best solution\n",
    "selected_feature_indicestrain = [i for i in range(len(best_solution)) if best_solution[i] > 0]\n",
    "\n",
    "# extract the selected features from the original feature matrix\n",
    "selected_featurestrain = X_train[:, selected_feature_indicestrain]"
   ]
  },
  {
   "cell_type": "code",
   "execution_count": null,
   "metadata": {
    "id": "MzTlpetFmN4O"
   },
   "outputs": [],
   "source": [
    "from sklearn.metrics import accuracy_score, f1_score, precision_score, recall_score, classification_report, confusion_matrix"
   ]
  },
  {
   "cell_type": "code",
   "execution_count": null,
   "metadata": {
    "id": "d_cE-axHmN4O",
    "outputId": "0f0b8bb8-4012-4ace-f859-09f9bfb87489"
   },
   "outputs": [
    {
     "data": {
      "text/plain": [
       "(9529, 664)"
      ]
     },
     "execution_count": 124,
     "metadata": {},
     "output_type": "execute_result"
    }
   ],
   "source": [
    "selected_featurestrain.shape"
   ]
  },
  {
   "cell_type": "code",
   "execution_count": null,
   "metadata": {
    "id": "X3xtAdB-mN4P",
    "outputId": "2fabd1b0-37f3-4c28-c92d-54f06a0737c8"
   },
   "outputs": [
    {
     "name": "stdout",
     "output_type": "stream",
     "text": [
      "Found 35 images belonging to 2 classes.\n"
     ]
    }
   ],
   "source": [
    "test_generator = data_generator.flow_from_directory( \n",
    "    r\"C:\\Users\\ADMIN\\Downloads\\2 test-20230502T091229Z-001\\2 test\", \n",
    "    target_size =(IMAGE_SIZE, IMAGE_SIZE), \n",
    "    batch_size =BATCH_SIZE,\n",
    "    shuffle = True,\n",
    "    class_mode = 'categorical',\n",
    "    seed = 42)"
   ]
  },
  {
   "cell_type": "code",
   "execution_count": null,
   "metadata": {
    "id": "IwQ4TV64mN4Q",
    "outputId": "7b5fceb6-3985-4eca-8128-da7be23ba78f"
   },
   "outputs": [
    {
     "name": "stdout",
     "output_type": "stream",
     "text": [
      "2/2 [==============================] - 1s 131ms/step\n"
     ]
    }
   ],
   "source": [
    "test_features = model.predict(test_generator)"
   ]
  },
  {
   "cell_type": "code",
   "execution_count": null,
   "metadata": {
    "id": "NAdBtNT6mN4Q",
    "outputId": "fbd5d0b7-e9d2-4402-c133-5f2df9b33841"
   },
   "outputs": [
    {
     "data": {
      "text/plain": [
       "9529"
      ]
     },
     "execution_count": 135,
     "metadata": {},
     "output_type": "execute_result"
    }
   ],
   "source": [
    "len(train_generator.labels)"
   ]
  },
  {
   "cell_type": "code",
   "execution_count": null,
   "metadata": {
    "id": "qm29X8wVmN4R"
   },
   "outputs": [],
   "source": [
    "selected_feature_indices1 = [i for i in range(len(best_solution)) if best_solution[i] > 0]\n",
    "selected_features1 = test_features[:, selected_feature_indices1]"
   ]
  },
  {
   "cell_type": "code",
   "execution_count": null,
   "metadata": {
    "id": "it2if9CcmN4R"
   },
   "outputs": [],
   "source": [
    "selected_features = X_train[:,selected_feature_indices1]\n",
    "knn = KNeighborsClassifier(n_neighbors=5)\n",
    "knn.fit(selected_features, y_train)\n",
    "y_pred = knn.predict(X_test[:,selected_feature_indices1])"
   ]
  }
 ],
 "metadata": {
  "colab": {
   "provenance": []
  },
  "gpuClass": "standard",
  "kernelspec": {
   "display_name": "Python 3 (ipykernel)",
   "language": "python",
   "name": "python3"
  },
  "language_info": {
   "codemirror_mode": {
    "name": "ipython",
    "version": 3
   },
   "file_extension": ".py",
   "mimetype": "text/x-python",
   "name": "python",
   "nbconvert_exporter": "python",
   "pygments_lexer": "ipython3",
   "version": "3.10.7"
  }
 },
 "nbformat": 4,
 "nbformat_minor": 1
}
